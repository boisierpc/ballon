{
 "cells": [
  {
   "cell_type": "markdown",
   "id": "6d95278c",
   "metadata": {},
   "source": [
    "# Représentation et modélisation d’une trajectoire avec un langage de programmation"
   ]
  },
  {
   "cell_type": "markdown",
   "id": "b9eb6b15",
   "metadata": {},
   "source": [
    "L’objectif de l’activité est d’utiliser le langage Python pour représenter la trajectoire d’un projectile et la comparer à un modèle théorique."
   ]
  },
  {
   "cell_type": "markdown",
   "id": "0822e59e",
   "metadata": {},
   "source": [
    "Voici un exemple de code python pour tracer un graphe"
   ]
  },
  {
   "cell_type": "markdown",
   "id": "118299d8",
   "metadata": {},
   "source": [
    "<img src=\"codepythontemperature.png\">"
   ]
  },
  {
   "cell_type": "markdown",
   "id": "b2821e93",
   "metadata": {},
   "source": [
    "Voici les coordonnées obtenues lors du poinatge d une vidéo sur un lancer de ballon"
   ]
  },
  {
   "cell_type": "markdown",
   "id": "7dcf4ccd",
   "metadata": {},
   "source": [
    "<img src=\"ballon.png\">"
   ]
  },
  {
   "cell_type": "markdown",
   "id": "d84397e6",
   "metadata": {},
   "source": [
    "TRAVAIL A EFFECTUER\n",
    "\n",
    "Modifier le script du Doc.3 dans la case ci dessous afin de tracer la courbe représentant les coordonées y en fonction de x \n",
    "Un fosi le programme tapé , il faut l'exécuter afin d'obtenir le graphique : il faut faire  CTRL + Entrée"
   ]
  },
  {
   "cell_type": "code",
   "execution_count": null,
   "id": "d2110f16",
   "metadata": {},
   "outputs": [],
   "source": []
  },
  {
   "cell_type": "markdown",
   "id": "3af519fd",
   "metadata": {},
   "source": [
    "2.\ta. Comment sont saisis les nombres décimaux en Python, à la française avec une virgule ou à l’anglo-saxonne avec des points ?\n",
    "   "
   ]
  },
  {
   "cell_type": "raw",
   "id": "b1ce32d1",
   "metadata": {},
   "source": [
    "Réponse : "
   ]
  },
  {
   "cell_type": "markdown",
   "id": "54f30474",
   "metadata": {},
   "source": [
    "b.  Préciser quelle instruction du script du Doc.3 réalise le tracer de la liste y en fonction de la liste x ?"
   ]
  },
  {
   "cell_type": "raw",
   "id": "4e7db6a1",
   "metadata": {},
   "source": [
    "Réponse : "
   ]
  },
  {
   "cell_type": "markdown",
   "id": "12a7e4e9",
   "metadata": {},
   "source": [
    "c. Expliquer à quoi servent les instructions des lignes 8, 9 et 10 du script du Doc.3 ?"
   ]
  },
  {
   "cell_type": "raw",
   "id": "b5103780",
   "metadata": {},
   "source": [
    "Réponse : "
   ]
  }
 ],
 "metadata": {
  "kernelspec": {
   "display_name": "Python 3",
   "language": "python",
   "name": "python3"
  },
  "language_info": {
   "codemirror_mode": {
    "name": "ipython",
    "version": 3
   },
   "file_extension": ".py",
   "mimetype": "text/x-python",
   "name": "python",
   "nbconvert_exporter": "python",
   "pygments_lexer": "ipython3",
   "version": "3.8.8"
  }
 },
 "nbformat": 4,
 "nbformat_minor": 5
}
